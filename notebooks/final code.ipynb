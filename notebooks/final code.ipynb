{
 "cells": [
  {
   "cell_type": "markdown",
   "metadata": {},
   "source": [
    "# Download dataset"
   ]
  },
  {
   "cell_type": "code",
   "execution_count": null,
   "metadata": {},
   "outputs": [],
   "source": [
    "!pip install medmnist\n",
    "!pip install matplotlib\n",
    "!pip install torch\n",
    "!pip install opencv-python"
   ]
  },
  {
   "cell_type": "code",
   "execution_count": 1,
   "metadata": {},
   "outputs": [],
   "source": [
    "import torch\n",
    "import torch.nn as nn\n",
    "import torchvision.transforms as transforms\n",
    "import torchvision.models as models\n",
    "import medmnist\n",
    "from medmnist import PathMNIST\n",
    "import torchvision.transforms as transforms\n",
    "from torch.utils.data import DataLoader\n",
    "import matplotlib.pyplot as plt\n",
    "import numpy as np\n",
    "import pandas as pd\n",
    "import cv2\n",
    "from tqdm import tqdm\n",
    "from skimage.util import view_as_windows\n",
    "from PIL import Image"
   ]
  },
  {
   "cell_type": "code",
   "execution_count": 2,
   "metadata": {},
   "outputs": [],
   "source": [
    "\n",
    "\n",
    "\n",
    "transform = transforms.Compose([transforms.ToTensor()])\n",
    "train_dataset = PathMNIST(split='train', download=True, transform=transform)\n",
    "val_dataset = PathMNIST(split='val', download=True, transform=transform)\n",
    "test_dataset = PathMNIST(split='test', download=True, transform=transform)"
   ]
  },
  {
   "cell_type": "markdown",
   "metadata": {},
   "source": [
    "# compress"
   ]
  },
  {
   "cell_type": "code",
   "execution_count": null,
   "metadata": {},
   "outputs": [
    {
     "name": "stderr",
     "output_type": "stream",
     "text": [
      "C:\\Users\\ADMIN\\AppData\\Local\\Temp\\ipykernel_44008\\3371617289.py:1: DeprecationWarning: __array__ implementation doesn't accept a copy keyword, so passing copy=False failed. __array__ must implement 'dtype' and 'copy' keyword arguments. To learn more, see the migration guide https://numpy.org/devdocs/numpy_2_0_migration_guide.html#adapting-to-changes-in-the-copy-keyword\n",
      "  train_images = np.array([np.array(img) for img, _ in train_dataset])\n"
     ]
    }
   ],
   "source": [
    "train_images = np.array([np.array(img) for img, _ in train_dataset])\n",
    "train_labels = np.array([label for _, label in train_dataset])\n",
    "test_images = np.array([np.array(img) for img, _ in test_dataset])\n",
    "test_labels = np.array([label for _, label in test_dataset])\n",
    "val_images = np.array([np.array(img) for img, _ in val_dataset])\n",
    "val_labels = np.array([label for _, label in val_dataset])\n",
    "np.savez_compressed(\"./pathmnist_train.npz\",\n",
    "                    train_images=train_images, train_labels=train_labels)\n",
    "np.savez_compressed(\"./pathmnist_test.npz\",\n",
    "                    test_images=test_images, test_labels=test_labels)\n",
    "np.savez_compressed(\"./pathmnist_val.npz\",\n",
    "                    val_images=val_images, val_labels=val_labels)\n"
   ]
  },
  {
   "cell_type": "code",
   "execution_count": 7,
   "metadata": {},
   "outputs": [
    {
     "name": "stdout",
     "output_type": "stream",
     "text": [
      "(89996, 3, 28, 28)\n"
     ]
    }
   ],
   "source": [
    "lo = np.load(\"./pathmnist_train.npz\")\n",
    "print(lo['train_images'].shape)"
   ]
  },
  {
   "cell_type": "markdown",
   "metadata": {},
   "source": [
    "# data"
   ]
  },
  {
   "cell_type": "code",
   "execution_count": 9,
   "metadata": {},
   "outputs": [],
   "source": [
    "all_train_images = []\n",
    "all_train_labels = []\n",
    "for i in range(len(train_dataset)):\n",
    "    image, label = train_dataset[i]  \n",
    "    all_train_images.append(image.numpy())\n",
    "    all_train_labels.append(label)\n",
    "all_train_images = np.array(all_train_images)\n",
    "all_train_labels = np.array(all_train_labels)\n",
    "all_test_images = []\n",
    "all_test_labels = []\n",
    "for i in range(len(test_dataset)):\n",
    "    image, label = test_dataset[i]  \n",
    "    all_test_images.append(image.numpy())\n",
    "    all_test_labels.append(label)\n",
    "all_test_images = np.array(all_test_images)\n",
    "all_test_labels = np.array(all_test_labels)\n"
   ]
  },
  {
   "cell_type": "code",
   "execution_count": 4,
   "metadata": {},
   "outputs": [
    {
     "name": "stdout",
     "output_type": "stream",
     "text": [
      "(89996, 3, 28, 28)\n"
     ]
    }
   ],
   "source": [
    "print(all_train_images.shape)"
   ]
  },
  {
   "cell_type": "code",
   "execution_count": 10,
   "metadata": {},
   "outputs": [],
   "source": [
    "max_size = 5000\n",
    "train_images = all_train_images[:max_size]\n",
    "train_labels = all_train_labels[:max_size].flatten()\n",
    "test_images = all_test_images[:max_size]\n",
    "test_labels = all_test_labels[:max_size].flatten()\n",
    "train_labels = [str(x) for x in train_labels]\n",
    "test_labels = [str(x) for x in test_labels]"
   ]
  },
  {
   "cell_type": "markdown",
   "metadata": {},
   "source": [
    "# Feature extraction"
   ]
  },
  {
   "cell_type": "code",
   "execution_count": null,
   "metadata": {},
   "outputs": [],
   "source": [
    "def generate_feature(images, labels, kernel, step):\n",
    "    image = images[0]\n",
    "    _, height, width = image.shape\n",
    "    column_name = [\"mean\", \"var\"]\n",
    "    for c,channel in enumerate(image):\n",
    "        number_of_block = 0\n",
    "        for h in range(0, height - kernel + 1, step):\n",
    "            for w in range(0, width - kernel + 1, step):\n",
    "                column_name.append(f\"Channel {c} - block {number_of_block} mean\")\n",
    "                column_name.append(f\"Channel {c} - block {number_of_block} var\")        \n",
    "                number_of_block += 1\n",
    "    column_name.append(f\"label\")\n",
    "    res_df = pd.DataFrame(columns=column_name)\n",
    "    for i, image in enumerate(images):\n",
    "        rec = [np.mean(image), np.var(image)]\n",
    "        for c, channel in enumerate(image):\n",
    "            windows = view_as_windows(channel, (kernel, kernel), step)\n",
    "            means = np.mean(windows, axis=(-2, -1))\n",
    "            vars = np.var(windows, axis=(-2, -1)) \n",
    "            rec.extend(means.flatten())  \n",
    "            rec.extend(vars.flatten())\n",
    "        rec.append(labels[i])\n",
    "        res_df.loc[len(res_df)] = rec\n",
    "    return res_df\n"
   ]
  },
  {
   "cell_type": "markdown",
   "metadata": {},
   "source": [
    "# Training model"
   ]
  },
  {
   "cell_type": "code",
   "execution_count": 15,
   "metadata": {},
   "outputs": [],
   "source": [
    "train = generate_feature(train_images, train_labels, 7, 7)\n",
    "test = generate_feature(test_images, test_labels, 7, 7)"
   ]
  },
  {
   "cell_type": "code",
   "execution_count": 16,
   "metadata": {},
   "outputs": [
    {
     "name": "stdout",
     "output_type": "stream",
     "text": [
      "          mean       var  Channel 0 - block 0 mean  Channel 0 - block 0 var  \\\n",
      "0     0.847772  0.001735                  0.864106                 0.863625   \n",
      "1     0.675400  0.014698                  0.712125                 0.729652   \n",
      "2     0.742851  0.010313                  0.816967                 0.839936   \n",
      "3     0.690086  0.018125                  0.851381                 0.839536   \n",
      "4     0.733620  0.017086                  0.825770                 0.871869   \n",
      "...        ...       ...                       ...                      ...   \n",
      "4995  0.806166  0.003535                  0.811525                 0.833614   \n",
      "4996  0.553311  0.016775                  0.629532                 0.644418   \n",
      "4997  0.608378  0.038332                  0.610244                 0.622409   \n",
      "4998  0.518996  0.017043                  0.580872                 0.586074   \n",
      "4999  0.755364  0.018762                  0.822009                 0.806643   \n",
      "\n",
      "      Channel 0 - block 1 mean  Channel 0 - block 1 var  \\\n",
      "0                     0.848659                 0.834334   \n",
      "1                     0.767427                 0.773429   \n",
      "2                     0.831052                 0.817127   \n",
      "3                     0.841617                 0.813846   \n",
      "4                     0.875950                 0.822569   \n",
      "...                        ...                      ...   \n",
      "4995                  0.835214                 0.825210   \n",
      "4996                  0.601921                 0.606002   \n",
      "4997                  0.779832                 0.943097   \n",
      "4998                  0.611925                 0.615446   \n",
      "4999                  0.894678                 0.846659   \n",
      "\n",
      "      Channel 0 - block 2 mean  Channel 0 - block 2 var  \\\n",
      "0                     0.859304                 0.854502   \n",
      "1                     0.740456                 0.737335   \n",
      "2                     0.854662                 0.851781   \n",
      "3                     0.860664                 0.831373   \n",
      "4                     0.768707                 0.792637   \n",
      "...                        ...                      ...   \n",
      "4995                  0.801280                 0.792877   \n",
      "4996                  0.627691                 0.640416   \n",
      "4997                  0.753581                 0.689396   \n",
      "4998                  0.594878                 0.602721   \n",
      "4999                  0.748539                 0.716287   \n",
      "\n",
      "      Channel 0 - block 3 mean  Channel 0 - block 3 var  ...  \\\n",
      "0                     0.858343                 0.863706  ...   \n",
      "1                     0.752381                 0.778311  ...   \n",
      "2                     0.831533                 0.834974  ...   \n",
      "3                     0.842097                 0.800160  ...   \n",
      "4                     0.846659                 0.840656  ...   \n",
      "...                        ...                      ...  ...   \n",
      "4995                  0.824010                 0.804562  ...   \n",
      "4996                  0.630972                 0.566707  ...   \n",
      "4997                  0.607283                 0.821769  ...   \n",
      "4998                  0.589356                 0.639536  ...   \n",
      "4999                  0.759824                 0.772789  ...   \n",
      "\n",
      "      Channel 2 - block 11 var  Channel 2 - block 12 mean  \\\n",
      "0                     0.000087                   0.000034   \n",
      "1                     0.001963                   0.001324   \n",
      "2                     0.000313                   0.001860   \n",
      "3                     0.002478                   0.001849   \n",
      "4                     0.004980                   0.004873   \n",
      "...                        ...                        ...   \n",
      "4995                  0.001720                   0.000079   \n",
      "4996                  0.003938                   0.005134   \n",
      "4997                  0.026276                   0.001643   \n",
      "4998                  0.003214                   0.009214   \n",
      "4999                  0.007192                   0.008462   \n",
      "\n",
      "      Channel 2 - block 12 var  Channel 2 - block 13 mean  \\\n",
      "0                     0.000011                   0.000020   \n",
      "1                     0.004299                   0.012874   \n",
      "2                     0.001766                   0.000939   \n",
      "3                     0.002547                   0.002560   \n",
      "4                     0.004812                   0.005711   \n",
      "...                        ...                        ...   \n",
      "4995                  0.000702                   0.000011   \n",
      "4996                  0.009108                   0.004397   \n",
      "4997                  0.010246                   0.006943   \n",
      "4998                  0.002753                   0.003242   \n",
      "4999                  0.004552                   0.003786   \n",
      "\n",
      "      Channel 2 - block 13 var  Channel 2 - block 14 mean  \\\n",
      "0                     0.000008                   0.000858   \n",
      "1                     0.003527                   0.003000   \n",
      "2                     0.000938                   0.004051   \n",
      "3                     0.004454                   0.002645   \n",
      "4                     0.003915                   0.003766   \n",
      "...                        ...                        ...   \n",
      "4995                  0.005540                   0.002725   \n",
      "4996                  0.005768                   0.004462   \n",
      "4997                  0.021413                   0.008203   \n",
      "4998                  0.005897                   0.003213   \n",
      "4999                  0.008048                   0.009377   \n",
      "\n",
      "      Channel 2 - block 14 var  Channel 2 - block 15 mean  \\\n",
      "0                     0.000761                   0.000009   \n",
      "1                     0.007762                   0.000848   \n",
      "2                     0.001571                   0.002191   \n",
      "3                     0.002244                   0.002416   \n",
      "4                     0.003124                   0.004837   \n",
      "...                        ...                        ...   \n",
      "4995                  0.000463                   0.002007   \n",
      "4996                  0.004392                   0.005462   \n",
      "4997                  0.029911                   0.009583   \n",
      "4998                  0.004489                   0.004894   \n",
      "4999                  0.003737                   0.013761   \n",
      "\n",
      "      Channel 2 - block 15 var  label  \n",
      "0                     0.000011      0  \n",
      "1                     0.003963      4  \n",
      "2                     0.004966      7  \n",
      "3                     0.002047      5  \n",
      "4                     0.004309      5  \n",
      "...                        ...    ...  \n",
      "4995                  0.000235      0  \n",
      "4996                  0.005326      3  \n",
      "4997                  0.000921      8  \n",
      "4998                  0.006042      3  \n",
      "4999                  0.010320      4  \n",
      "\n",
      "[5000 rows x 99 columns]\n"
     ]
    }
   ],
   "source": [
    "print(train)"
   ]
  },
  {
   "cell_type": "code",
   "execution_count": null,
   "metadata": {},
   "outputs": [],
   "source": []
  },
  {
   "cell_type": "code",
   "execution_count": null,
   "metadata": {},
   "outputs": [],
   "source": []
  }
 ],
 "metadata": {
  "kernelspec": {
   "display_name": "ML",
   "language": "python",
   "name": "python3"
  },
  "language_info": {
   "codemirror_mode": {
    "name": "ipython",
    "version": 3
   },
   "file_extension": ".py",
   "mimetype": "text/x-python",
   "name": "python",
   "nbconvert_exporter": "python",
   "pygments_lexer": "ipython3",
   "version": "3.12.9"
  }
 },
 "nbformat": 4,
 "nbformat_minor": 2
}
