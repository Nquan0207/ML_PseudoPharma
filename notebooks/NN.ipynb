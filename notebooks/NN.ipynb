{
 "cells": [
  {
   "cell_type": "code",
   "execution_count": null,
   "metadata": {},
   "outputs": [],
   "source": [
    "# file train_set.py nằm trong models/trained/\n",
    "from train_set import train, test\n",
    "import numpy as np\n",
    "import pandas as pd\n",
    "from sklearn.model_selection import train_test_split\n",
    "from sklearn.naive_bayes import GaussianNB\n",
    "from sklearn.metrics import accuracy_score\n",
    "import random"
   ]
  },
  {
   "cell_type": "code",
   "execution_count": 2,
   "metadata": {},
   "outputs": [
    {
     "data": {
      "text/plain": [
       "int"
      ]
     },
     "execution_count": 2,
     "metadata": {},
     "output_type": "execute_result"
    }
   ],
   "source": [
    "type(train[\"label\"].values.tolist()[0])"
   ]
  },
  {
   "cell_type": "code",
   "execution_count": 4,
   "metadata": {},
   "outputs": [
    {
     "name": "stdout",
     "output_type": "stream",
     "text": [
      "5000\n",
      "5000\n"
     ]
    }
   ],
   "source": [
    "print(len(train))\n",
    "print(len(test))"
   ]
  },
  {
   "cell_type": "code",
   "execution_count": null,
   "metadata": {},
   "outputs": [
    {
     "name": "stdout",
     "output_type": "stream",
     "text": [
      "Epoch 10/100, Loss: 0.2441\n",
      "Epoch 20/100, Loss: 0.2441\n",
      "Epoch 30/100, Loss: 0.2441\n",
      "Epoch 40/100, Loss: 0.2440\n",
      "Epoch 50/100, Loss: 0.2440\n",
      "Epoch 60/100, Loss: 0.2440\n",
      "Epoch 70/100, Loss: 0.2440\n",
      "Epoch 80/100, Loss: 0.2439\n",
      "Epoch 90/100, Loss: 0.2439\n",
      "Epoch 100/100, Loss: 0.2439\n",
      "Final loss:  0.2438889840263702\n",
      "Test Accuracy: 0.816400\n"
     ]
    }
   ],
   "source": [
    "# Extract features (X) and labels (y) from train and test datasets\n",
    "X_train = train.drop(columns=[\"label\"]).values\n",
    "y_train = train[\"label\"].values\n",
    "X_test = test.drop(columns=[\"label\"]).values\n",
    "y_test = test[\"label\"].values\n",
    "\n",
    "# Determine the number of classes\n",
    "num_classes = len(set(y_train))\n",
    "\n",
    "# Convert labels to one-hot encoding for multi-class classification\n",
    "if num_classes > 2:\n",
    "    y_train = np.eye(num_classes)[train[\"label\"].values.tolist()]\n",
    "    y_test = np.eye(num_classes)[test[\"label\"].values.tolist()]\n",
    "else:\n",
    "    y_train = y_train.reshape(-1, 1)\n",
    "    y_test = y_test.reshape(-1, 1)\n",
    "\n",
    "# Define the Neural Network\n",
    "class NeuralNetwork:\n",
    "    def __init__(self, input_size, hidden1, hidden2, hidden3, output_size, learning_rate=0.01, seed=None):\n",
    "        self.lr = learning_rate\n",
    "        if seed is not None:\n",
    "            np.random.seed(seed)\n",
    "        \n",
    "        # Initialize weights and biases\n",
    "        self.W1 = np.random.randn(input_size, hidden1) * 0.1\n",
    "        self.b1 = np.zeros((1, hidden1))\n",
    "        self.W2 = np.random.randn(hidden1, hidden2) * 0.1\n",
    "        self.b2 = np.zeros((1, hidden2))\n",
    "        self.W3 = np.random.randn(hidden2, hidden3) * 0.1\n",
    "        self.b3 = np.zeros((1, hidden3))\n",
    "        self.W4 = np.random.randn(hidden3, output_size) * 0.1\n",
    "        self.b4 = np.zeros((1, output_size))\n",
    "        \n",
    "    def activation(self, x):\n",
    "        \"\"\"ReLU Activation Function\"\"\"\n",
    "        return np.maximum(0, x)\n",
    "\n",
    "    def activation_derivative(self, x):\n",
    "        \"\"\"Derivative of ReLU\"\"\"\n",
    "        return (x > 0).astype(float)\n",
    "\n",
    "    def softmax(self, x):\n",
    "        \"\"\"Softmax activation for multi-class classification\"\"\"\n",
    "        exp_x = np.exp(x - np.max(x, axis=1, keepdims=True))\n",
    "        return exp_x / np.sum(exp_x, axis=1, keepdims=True)\n",
    "\n",
    "    def sigmoid(self, x):\n",
    "        \"\"\"Sigmoid activation for binary classification\"\"\"\n",
    "        return 1 / (1 + np.exp(-x))\n",
    "\n",
    "    def sigmoid_derivative(self, x):\n",
    "        \"\"\"Derivative of sigmoid\"\"\"\n",
    "        return x * (1 - x)\n",
    "\n",
    "    def forward(self, X):\n",
    "        \"\"\"Forward propagation\"\"\"\n",
    "        self.A1 = self.activation(np.dot(X, self.W1) + self.b1)\n",
    "        self.A2 = self.activation(np.dot(self.A1, self.W2) + self.b2)\n",
    "        self.A3 = self.activation(np.dot(self.A2, self.W3) + self.b3)\n",
    "        self.output = np.dot(self.A3, self.W4) + self.b4\n",
    "        \n",
    "        # Apply activation based on problem type\n",
    "        if num_classes > 2:\n",
    "            self.output = self.softmax(self.output)\n",
    "        else:\n",
    "            self.output = self.softmax(self.output)\n",
    "        \n",
    "        return self.output\n",
    "\n",
    "    def backward(self, X, y):\n",
    "        \"\"\"Backpropagation\"\"\"\n",
    "        m = X.shape[0]  # Number of samples\n",
    "\n",
    "        # Compute error\n",
    "        if num_classes > 2:\n",
    "            error = self.output - y\n",
    "        else:\n",
    "            error = self.output - y  # For binary classification\n",
    "\n",
    "        # Gradients (Backpropagation)\n",
    "        dW4 = np.dot(self.A3.T, error) / m\n",
    "        db4 = np.sum(error, axis=0, keepdims=True) / m\n",
    "\n",
    "        dA3 = np.dot(error, self.W4.T) * self.activation_derivative(self.A3)\n",
    "        dW3 = np.dot(self.A2.T, dA3) / m\n",
    "        db3 = np.sum(dA3, axis=0, keepdims=True) / m\n",
    "\n",
    "        dA2 = np.dot(dA3, self.W3.T) * self.activation_derivative(self.A2)\n",
    "        dW2 = np.dot(self.A1.T, dA2) / m\n",
    "        db2 = np.sum(dA2, axis=0, keepdims=True) / m\n",
    "\n",
    "        dA1 = np.dot(dA2, self.W2.T) * self.activation_derivative(self.A1)\n",
    "        dW1 = np.dot(X.T, dA1) / m\n",
    "        db1 = np.sum(dA1, axis=0, keepdims=True) / m\n",
    "\n",
    "        # Update weights and biases (Delta Rule)\n",
    "        self.W4 -= self.lr * dW4\n",
    "        self.b4 -= self.lr * db4\n",
    "        self.W3 -= self.lr * dW3\n",
    "        self.b3 -= self.lr * db3\n",
    "        self.W2 -= self.lr * dW2\n",
    "        self.b2 -= self.lr * db2\n",
    "        self.W1 -= self.lr * dW1\n",
    "        self.b1 -= self.lr * db1\n",
    "\n",
    "    def train(self, X, y, epochs=100):\n",
    "        \"\"\"Train the model using backpropagation\"\"\"\n",
    "        for epoch in range(epochs):\n",
    "            self.forward(X)\n",
    "            self.backward(X, y)\n",
    "            \n",
    "            # Compute loss\n",
    "            loss = np.mean(-y * np.log(self.output + 1e-9))  # Cross-entropy loss\n",
    "            if (epoch + 1) % 10 == 0:\n",
    "                print(f\"Epoch {epoch+1}/{epochs}, Loss: {loss:.4f}\")\n",
    "        print(\"Final loss: \", loss)\n",
    "\n",
    "nn = NeuralNetwork(input_size=X_train.shape[1], hidden1=128, hidden2=64, hidden3=32, output_size=num_classes, learning_rate=0.01, seed=62)\n",
    "nn.train(X_train, y_train, epochs=100)\n",
    "\n",
    "# Predictions\n",
    "y_pred = nn.forward(X_test)\n",
    "predictions = np.argmax(y_pred, axis=1) if num_classes > 2 else (y_pred > 0.5).astype(int)\n",
    "predictions = np.eye(num_classes)[predictions]\n",
    "\n",
    "# Accuracy\n",
    "accuracy = np.mean(predictions.flatten() == y_test.flatten())\n",
    "print(f\"Test Accuracy: {accuracy:.6f}\")\n"
   ]
  },
  {
   "cell_type": "code",
   "execution_count": null,
   "metadata": {},
   "outputs": [],
   "source": []
  }
 ],
 "metadata": {
  "kernelspec": {
   "display_name": "ML",
   "language": "python",
   "name": "python3"
  },
  "language_info": {
   "codemirror_mode": {
    "name": "ipython",
    "version": 3
   },
   "file_extension": ".py",
   "mimetype": "text/x-python",
   "name": "python",
   "nbconvert_exporter": "python",
   "pygments_lexer": "ipython3",
   "version": "3.12.9"
  }
 },
 "nbformat": 4,
 "nbformat_minor": 2
}
