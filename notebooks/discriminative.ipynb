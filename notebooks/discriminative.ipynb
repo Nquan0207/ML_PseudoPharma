{
 "cells": [
  {
   "cell_type": "code",
   "execution_count": 1,
   "id": "ab152a0b",
   "metadata": {},
   "outputs": [],
   "source": [
    "import numpy as np"
   ]
  },
  {
   "cell_type": "code",
   "execution_count": 2,
   "id": "18fe640b",
   "metadata": {},
   "outputs": [],
   "source": [
    "train_df = np.load('../data/preprocessed/train_data.npz')\n",
    "test_df = np.load('../data/preprocessed/test_data.npz')"
   ]
  },
  {
   "cell_type": "code",
   "execution_count": 3,
   "id": "3f03bd54",
   "metadata": {},
   "outputs": [
    {
     "data": {
      "text/plain": [
       "(89996, 50)"
      ]
     },
     "execution_count": 3,
     "metadata": {},
     "output_type": "execute_result"
    }
   ],
   "source": [
    "train_df['x_train'].shape\n",
    "# test_df['x_test'].shape\n",
    "# test_df['y_test'].shape"
   ]
  },
  {
   "cell_type": "code",
   "execution_count": 4,
   "id": "2a05e3ae",
   "metadata": {},
   "outputs": [],
   "source": [
    "X_train = train_df['x_train']\n",
    "y_train = train_df['y_train']\n",
    "X_test = test_df['x_test']\n",
    "y_test = test_df['y_test']\n"
   ]
  },
  {
   "cell_type": "code",
   "execution_count": 5,
   "id": "5df7dd89",
   "metadata": {},
   "outputs": [
    {
     "name": "stdout",
     "output_type": "stream",
     "text": [
      "              precision    recall  f1-score   support\n",
      "\n",
      "           0       0.78      0.99      0.87      1338\n",
      "           1       0.84      1.00      0.91       847\n",
      "           2       0.12      0.03      0.04       339\n",
      "           3       0.02      0.01      0.01       634\n",
      "           4       0.56      0.21      0.30      1035\n",
      "           5       0.34      0.70      0.45       592\n",
      "           6       0.00      0.00      0.00       741\n",
      "           7       0.00      0.00      0.00       421\n",
      "           8       0.46      0.87      0.60      1233\n",
      "\n",
      "    accuracy                           0.54      7180\n",
      "   macro avg       0.35      0.42      0.36      7180\n",
      "weighted avg       0.44      0.54      0.46      7180\n",
      "\n"
     ]
    },
    {
     "name": "stderr",
     "output_type": "stream",
     "text": [
      "c:\\Users\\ADMIN\\anaconda3\\envs\\ML\\Lib\\site-packages\\sklearn\\metrics\\_classification.py:1565: UndefinedMetricWarning: Precision is ill-defined and being set to 0.0 in labels with no predicted samples. Use `zero_division` parameter to control this behavior.\n",
      "  _warn_prf(average, modifier, f\"{metric.capitalize()} is\", len(result))\n",
      "c:\\Users\\ADMIN\\anaconda3\\envs\\ML\\Lib\\site-packages\\sklearn\\metrics\\_classification.py:1565: UndefinedMetricWarning: Precision is ill-defined and being set to 0.0 in labels with no predicted samples. Use `zero_division` parameter to control this behavior.\n",
      "  _warn_prf(average, modifier, f\"{metric.capitalize()} is\", len(result))\n",
      "c:\\Users\\ADMIN\\anaconda3\\envs\\ML\\Lib\\site-packages\\sklearn\\metrics\\_classification.py:1565: UndefinedMetricWarning: Precision is ill-defined and being set to 0.0 in labels with no predicted samples. Use `zero_division` parameter to control this behavior.\n",
      "  _warn_prf(average, modifier, f\"{metric.capitalize()} is\", len(result))\n"
     ]
    }
   ],
   "source": [
    "from sklearn.linear_model import LogisticRegression\n",
    "from sklearn.metrics import classification_report\n",
    "\n",
    "X_tr_np = X_train\n",
    "y_tr_np = y_train\n",
    "X_te_np = X_test\n",
    "y_te_np = y_test\n",
    "\n",
    "clf = LogisticRegression(max_iter=1000)\n",
    "clf.fit(X_tr_np, y_tr_np)\n",
    "\n",
    "y_pred = clf.predict(X_te_np)\n",
    "print(classification_report(y_te_np, y_pred))\n"
   ]
  },
  {
   "cell_type": "code",
   "execution_count": null,
   "id": "f547cf08",
   "metadata": {},
   "outputs": [],
   "source": [
    "import torch\n",
    "import torch.nn as nn\n",
    "import torch.optim as optim\n",
    "from sklearn.metrics import classification_report\n",
    "\n",
    "X_train_tensor = torch.tensor(X_train, dtype=torch.float32)\n",
    "y_train_tensor = torch.tensor(y_train, dtype=torch.long)\n",
    "X_test_tensor = torch.tensor(X_test, dtype=torch.float32)\n",
    "y_test_tensor = torch.tensor(y_test, dtype=torch.long)\n",
    "\n",
    "class LogisticRegressionModel(nn.Module):\n",
    "    def __init__(self, input_dim, num_classes):\n",
    "        super().__init__()\n",
    "        self.linear = nn.Linear(input_dim, num_classes)\n",
    "    \n",
    "    def forward(self, x):\n",
    "        return self.linear(x)\n",
    "    \n",
    "input_dim = X_train_tensor.shape[1] \n",
    "num_classes = len(torch.unique(y_train_tensor))\n",
    "model = LogisticRegressionModel(input_dim, num_classes)\n",
    "\n",
    "criterion = nn.CrossEntropyLoss()\n",
    "optimizer = optim.Adam(model.parameters(), lr=0.1)\n",
    "\n",
    "epochs = 500\n",
    "model.train()\n",
    "for epoch in range(epochs):\n",
    "    optimizer.zero_grad()\n",
    "    outputs = model(X_train_tensor)\n",
    "    loss = criterion(outputs, y_train_tensor)\n",
    "    loss.backward()\n",
    "    optimizer.step()\n",
    "    # print(f\"Epoch {epoch+1}/{epochs} - Loss: {loss.item():.4f}\")\n",
    "\n",
    "model.eval()\n",
    "with torch.no_grad():\n",
    "    outputs = model(X_test_tensor)\n",
    "    preds = outputs.argmax(dim=1)\n",
    "\n",
    "y_true = y_test_tensor.cpu().numpy()\n",
    "y_pred = preds.cpu().numpy()\n",
    "print(classification_report(y_true, y_pred))\n"
   ]
  },
  {
   "cell_type": "code",
   "execution_count": null,
   "id": "7a74e0fc",
   "metadata": {},
   "outputs": [],
   "source": []
  }
 ],
 "metadata": {
  "kernelspec": {
   "display_name": "ML",
   "language": "python",
   "name": "python3"
  },
  "language_info": {
   "codemirror_mode": {
    "name": "ipython",
    "version": 3
   },
   "file_extension": ".py",
   "mimetype": "text/x-python",
   "name": "python",
   "nbconvert_exporter": "python",
   "pygments_lexer": "ipython3",
   "version": "3.12.9"
  }
 },
 "nbformat": 4,
 "nbformat_minor": 5
}
